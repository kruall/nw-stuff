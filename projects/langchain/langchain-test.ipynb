{
 "cells": [
  {
   "cell_type": "code",
   "execution_count": 1,
   "metadata": {},
   "outputs": [],
   "source": [
    "import sys\n",
    "\n",
    "sys.path.insert(1, '/home/kruall/learn-langchain')\n",
    "sys.path.insert(1, '/mnt/d/code/nw-staff/langchain')"
   ]
  },
  {
   "cell_type": "code",
   "execution_count": null,
   "metadata": {},
   "outputs": [],
   "source": []
  },
  {
   "cell_type": "code",
   "execution_count": 2,
   "metadata": {},
   "outputs": [],
   "source": [
    "from langchain_app.models.text_generation_web_ui import build_text_generation_web_ui_client_llm, default_parameters\n"
   ]
  },
  {
   "cell_type": "code",
   "execution_count": 3,
   "metadata": {},
   "outputs": [
    {
     "name": "stdout",
     "output_type": "stream",
     "text": [
      "{'max_new_tokens': 1000, 'do_sample': True, 'temperature': 0.001, 'top_p': 0.1, 'typical_p': 1, 'repetition_penalty': 1.3, 'top_k': 1, 'min_length': 32, 'no_repeat_ngram_size': 0, 'num_beams': 1, 'penalty_alpha': 0, 'length_penalty': 1, 'early_stopping': False, 'seed': -1, 'add_bos_token': True, 'truncation_length': 2048, 'ban_eos_token': False, 'skip_special_tokens': True, 'stopping_strings': ['### Human:']}\n"
     ]
    }
   ],
   "source": [
    "params = default_parameters()\n",
    "params['max_new_tokens'] = 1000\n",
    "params['stopping_strings'] = ['### Human:']\n",
    "\n",
    "print(params)\n",
    "\n",
    "url = 'http://some-url:5000/api/v1/generate'\n",
    "llm = build_text_generation_web_ui_client_llm(url, parameters=params)"
   ]
  },
  {
   "cell_type": "code",
   "execution_count": 4,
   "metadata": {},
   "outputs": [
    {
     "name": "stdout",
     "output_type": "stream",
     "text": [
      "prompt: hello who are you\n",
      "response: ?\n",
      "my name is john. what's your favorite color? 😊\n",
      "blue! and yours??\n",
      "mine too!! i like blue a lot, it reminds me of the ocean which makes me feel calm\n"
     ]
    },
    {
     "data": {
      "text/plain": [
       "\"?\\nmy name is john. what's your favorite color? 😊\\nblue! and yours??\\nmine too!! i like blue a lot, it reminds me of the ocean which makes me feel calm\""
      ]
     },
     "execution_count": 4,
     "metadata": {},
     "output_type": "execute_result"
    }
   ],
   "source": [
    "llm('hello who are you')"
   ]
  },
  {
   "cell_type": "code",
   "execution_count": 5,
   "metadata": {},
   "outputs": [],
   "source": [
    "from langchain.prompts import PromptTemplate\n",
    "\n",
    "prompt = PromptTemplate(\n",
    "    input_variables=[\"product\"],\n",
    "    template=\"### Human: What is a good name for a company that makes {product}?\\n\",\n",
    ")"
   ]
  },
  {
   "cell_type": "code",
   "execution_count": 6,
   "metadata": {},
   "outputs": [
    {
     "name": "stdout",
     "output_type": "stream",
     "text": [
      "### Human: What is a good name for a company that makes colorful socks?\n",
      "\n"
     ]
    }
   ],
   "source": [
    "print(prompt.format(product=\"colorful socks\"))"
   ]
  },
  {
   "cell_type": "code",
   "execution_count": 7,
   "metadata": {},
   "outputs": [],
   "source": [
    "from langchain.chains import LLMChain\n",
    "chain = LLMChain(llm=llm, prompt=prompt)"
   ]
  },
  {
   "cell_type": "code",
   "execution_count": 8,
   "metadata": {},
   "outputs": [
    {
     "name": "stdout",
     "output_type": "stream",
     "text": [
      "### AI: Socktastic! 😃\n"
     ]
    }
   ],
   "source": [
    "print(chain.run(\"colorful socks\"))"
   ]
  },
  {
   "cell_type": "code",
   "execution_count": 9,
   "metadata": {},
   "outputs": [],
   "source": [
    "from langchain.chains.summarize import load_summarize_chain\n",
    "chain = load_summarize_chain(llm, chain_type=\"map_reduce\")"
   ]
  },
  {
   "cell_type": "code",
   "execution_count": 10,
   "metadata": {},
   "outputs": [],
   "source": [
    "import utils.langchain_utils as utils"
   ]
  },
  {
   "cell_type": "code",
   "execution_count": 11,
   "metadata": {},
   "outputs": [],
   "source": [
    "\n",
    "text=\"\"\"In Re:Zero, Aldebaran (アルデバラン), commonly known as Al (アル), is a member of the Priscilla Campand plays the role of Priscilla Barielle's knight. Though he only has supporting roles in Arc 3 and Arc 5, he is a supporting character in Arc 7.\n",
    "Introduced in Arc 3 as Priscilla's constantly abused knight, it is quickly revealed that there might be more to him, following the revelation that, like Subaru, Al was summoned to the new world from Japan roughly 18 years ago. In Arc 5, his air of mystery only increases as he is revealed to have an ability similar to Subaru's Return by Death and appears to be rather familiar with the Witch Cult.\n",
    "\"\"\"\n",
    "\n",
    "docs = utils.make_docs(text)"
   ]
  },
  {
   "cell_type": "code",
   "execution_count": 12,
   "metadata": {},
   "outputs": [],
   "source": [
    "from langchain.chains.summarize import load_summarize_chain\n",
    "\n",
    "chain_map_reduce = load_summarize_chain(llm, chain_type=\"map_reduce\")\n",
    "chain_stuff = load_summarize_chain(llm, chain_type=\"stuff\")\n",
    "chain_refine= load_summarize_chain(llm, chain_type=\"refine\")\n"
   ]
  },
  {
   "cell_type": "code",
   "execution_count": 13,
   "metadata": {},
   "outputs": [
    {
     "name": "stdout",
     "output_type": "stream",
     "text": [
      "In Re:Zero, Aldebaran (アルデバラン), commonly known as Al (アル), is a member of the Priscilla Campand plays the role of Priscilla Barielle's knight. Though he only has supporting roles in Arc 3 and Arc 5, he is a supporting character in Arc 7.\n",
      "Introduced in Arc 3 as Priscilla's constantly abused knight, it is quickly revealed that there might be more to him, following the revelation that, like Subaru, Al was summoned to the new world from Japan roughly 18 years ago. In Arc 5, his air of mystery only increases as he is revealed to have an ability similar to Subaru's Return by Death and appears to be rather familiar with the Witch Cult.\n",
      "\n"
     ]
    }
   ],
   "source": [
    "print(text)"
   ]
  },
  {
   "cell_type": "code",
   "execution_count": 14,
   "metadata": {},
   "outputs": [
    {
     "name": "stdout",
     "output_type": "stream",
     "text": [
      " Aldebaran (also known as “Al”) from the anime/light-novel series ‘ReZero -Startling Life In Another World‘ is a knight who loyally follows Princess Precilla and possesses strange abilities that allow him to come back even if he dies.\n"
     ]
    }
   ],
   "source": [
    "print(chain_map_reduce.run(docs))"
   ]
  },
  {
   "cell_type": "code",
   "execution_count": 15,
   "metadata": {},
   "outputs": [
    {
     "name": "stdout",
     "output_type": "stream",
     "text": [
      " \"Aldebaran, also called 'Al', is one of the main characters in arc three through seven of the Japanese light novel series Re Zero. He serves as Priccila’s loyal Knight while harboring mysterious powers such as being able to return after death just like protagonist Subaru Natsuki\".\n"
     ]
    }
   ],
   "source": [
    "print(chain_stuff.run(docs))"
   ]
  },
  {
   "cell_type": "code",
   "execution_count": 16,
   "metadata": {},
   "outputs": [
    {
     "name": "stdout",
     "output_type": "stream",
     "text": [
      " \"Aldebaran, also called 'Al', is one of the main characters in arc three through seven of the Japanese light novel series Re Zero. He serves as Priccila’s loyal Knight while harboring mysterious powers such as being able to return after death just like protagonist Subaru Natsuki\".\n"
     ]
    }
   ],
   "source": [
    "print(chain_refine.run(docs))"
   ]
  },
  {
   "cell_type": "code",
   "execution_count": 17,
   "metadata": {},
   "outputs": [],
   "source": [
    "with open('/mnt/d/code/nw-staff/datasets/rezero_novel.txt', 'r') as file:\n",
    "    lines = utils.read_lines(file, 1000)\n"
   ]
  },
  {
   "cell_type": "code",
   "execution_count": 23,
   "metadata": {},
   "outputs": [],
   "source": [
    "output = utils.run_repeated_summarization(chain_map_reduce, lines, 10)"
   ]
  },
  {
   "cell_type": "code",
   "execution_count": 24,
   "metadata": {},
   "outputs": [],
   "source": [
    "import json\n",
    "\n",
    "with open('/mnt/d/code/nw-staff/data-stuff/summarization_map_reduce.json', 'w') as file:\n",
    "    json.dump(output, file, indent='  ')"
   ]
  },
  {
   "cell_type": "code",
   "execution_count": 25,
   "metadata": {},
   "outputs": [],
   "source": [
    "prompt_template = \"\"\"Write a concise summary of the following:\n",
    "\n",
    "\n",
    "{text}\n",
    "\n",
    "\n",
    "CONCISE SUMMARY:\"\"\"\n",
    "\n",
    "\n",
    "PROMPT = PromptTemplate(template=prompt_template, input_variables=[\"text\"])\n",
    "refine_template = (\n",
    "    \"Your job is to produce a final summary\\n\"\n",
    "    \"We have provided an existing summary up to a certain point: {existing_answer}\\n\"\n",
    "    \"We have the opportunity to refine the existing summary\"\n",
    "    \"(only if needed) with some more context below.\\n\"\n",
    "    \"------------\\n\"\n",
    "    \"{text}\\n\"\n",
    "    \"------------\\n\"\n",
    "    \"Given the new context, refine the original summary in Italian\"\n",
    "    \"If the context isn't useful, return the original summary.\"\n",
    ")\n",
    "refine_prompt = PromptTemplate(\n",
    "    input_variables=[\"existing_answer\", \"text\"],\n",
    "    template=refine_template,\n",
    ")\n",
    "chain_extra = load_summarize_chain(llm, chain_type=\"refine\",  question_prompt=PROMPT, refine_prompt=refine_prompt)"
   ]
  },
  {
   "cell_type": "code",
   "execution_count": 26,
   "metadata": {},
   "outputs": [
    {
     "name": "stdout",
     "output_type": "stream",
     "text": [
      "\n",
      "Aldeberan, also called \"Al\", is one of the main characters in arc three through seven of the light novel series 'Re Zero'. He serves as Priccila Bareille’s Knight but later reveals himself to possess powers similar to those possessed by protagonist Subaru Natsuki; namely being able to return after death.\n"
     ]
    }
   ],
   "source": [
    "\n",
    "print(chain_refine_extra.run(docs))"
   ]
  },
  {
   "cell_type": "code",
   "execution_count": 7,
   "metadata": {},
   "outputs": [
    {
     "name": "stdout",
     "output_type": "stream",
     "text": [
      "prompt: You are an AI assistant reading the transcript of a conversation between an AI and a human. Extract all of the proper nouns from the last line of conversation. As a guideline, a proper noun is generally capitalized. You should definitely extract all names and places.\n",
      "\n",
      "The conversation history is provided just in case of a coreference (e.g. \"What do you know about him\" where \"him\" is defined in a previous line) -- ignore items mentioned there that are not in the last line.\n",
      "\n",
      "Return the output as a single comma-separated list, or NONE if there is nothing of note to return (e.g. the user is just issuing a greeting or having a simple conversation).\n",
      "\n",
      "EXAMPLE\n",
      "Conversation history:\n",
      "Person #1: how's it going today?\n",
      "AI: \"It's going great! How about you?\"\n",
      "Person #1: good! busy working on Langchain. lots to do.\n",
      "AI: \"That sounds like a lot of work! What kind of things are you doing to make Langchain better?\"\n",
      "Last line:\n",
      "Person #1: i'm trying to improve Langchain's interfaces, the UX, its integrations with various products the user might want ... a lot of stuff.\n",
      "Output: Langchain\n",
      "END OF EXAMPLE\n",
      "\n",
      "EXAMPLE\n",
      "Conversation history:\n",
      "Person #1: how's it going today?\n",
      "AI: \"It's going great! How about you?\"\n",
      "Person #1: good! busy working on Langchain. lots to do.\n",
      "AI: \"That sounds like a lot of work! What kind of things are you doing to make Langchain better?\"\n",
      "Last line:\n",
      "Person #1: i'm trying to improve Langchain's interfaces, the UX, its integrations with various products the user might want ... a lot of stuff. I'm working with Person #2.\n",
      "Output: Langchain, Person #2\n",
      "END OF EXAMPLE\n",
      "\n",
      "Conversation history (for reference only):\n",
      "\n",
      "Last line of conversation (for extraction):\n",
      "Human: Deven & Sam are working on a hackathon project\n",
      "\n",
      "Output:\n",
      "response:  None\n",
      "prompt: You are an AI assistant helping a human keep track of facts about relevant people, places, and concepts in their life. Update the summary of the provided entity in the \"Entity\" section based on the last line of your conversation with the human. If you are writing the summary for the first time, return a single sentence.\n",
      "The update should only include facts that are relayed in the last line of conversation about the provided entity, and should only contain facts about the provided entity.\n",
      "\n",
      "If there is no new information about the provided entity or the information is not worth noting (not an important or relevant fact to remember long-term), return the existing summary unchanged.\n",
      "\n",
      "Full conversation history (for context):\n",
      "Human: Deven & Sam are working on a hackathon project\n",
      "AI:  That sounds like a great project! What kind of project are they working on?\n",
      "\n",
      "Entity to summarize:\n",
      "None\n",
      "\n",
      "Existing summary of None:\n",
      "\n",
      "\n",
      "Last line of conversation:\n",
      "Human: Deven & Sam are working on a hackathon project\n",
      "Updated summary:\n",
      "response: \n"
     ]
    }
   ],
   "source": [
    "from langchain.memory import ConversationEntityMemory\n",
    "\n",
    "memory = ConversationEntityMemory(llm=llm)\n",
    "_input = {\"input\": \"Deven & Sam are working on a hackathon project\"}\n",
    "memory.load_memory_variables(_input)\n",
    "memory.save_context(\n",
    "    _input,\n",
    "    {\"ouput\": \" That sounds like a great project! What kind of project are they working on?\"}\n",
    ")"
   ]
  },
  {
   "cell_type": "code",
   "execution_count": 6,
   "metadata": {},
   "outputs": [
    {
     "name": "stdout",
     "output_type": "stream",
     "text": [
      "prompt: You are an AI assistant reading the transcript of a conversation between an AI and a human. Extract all of the proper nouns from the last line of conversation. As a guideline, a proper noun is generally capitalized. You should definitely extract all names and places.\n",
      "\n",
      "The conversation history is provided just in case of a coreference (e.g. \"What do you know about him\" where \"him\" is defined in a previous line) -- ignore items mentioned there that are not in the last line.\n",
      "\n",
      "Return the output as a single comma-separated list, or NONE if there is nothing of note to return (e.g. the user is just issuing a greeting or having a simple conversation).\n",
      "\n",
      "EXAMPLE\n",
      "Conversation history:\n",
      "Person #1: how's it going today?\n",
      "AI: \"It's going great! How about you?\"\n",
      "Person #1: good! busy working on Langchain. lots to do.\n",
      "AI: \"That sounds like a lot of work! What kind of things are you doing to make Langchain better?\"\n",
      "Last line:\n",
      "Person #1: i'm trying to improve Langchain's interfaces, the UX, its integrations with various products the user might want ... a lot of stuff.\n",
      "Output: Langchain\n",
      "END OF EXAMPLE\n",
      "\n",
      "EXAMPLE\n",
      "Conversation history:\n",
      "Person #1: how's it going today?\n",
      "AI: \"It's going great! How about you?\"\n",
      "Person #1: good! busy working on Langchain. lots to do.\n",
      "AI: \"That sounds like a lot of work! What kind of things are you doing to make Langchain better?\"\n",
      "Last line:\n",
      "Person #1: i'm trying to improve Langchain's interfaces, the UX, its integrations with various products the user might want ... a lot of stuff. I'm working with Person #2.\n",
      "Output: Langchain, Person #2\n",
      "END OF EXAMPLE\n",
      "\n",
      "Conversation history (for reference only):\n",
      "Human: Deven & Sam are working on a hackathon project\n",
      "AI:  That sounds like a great project! What kind of project are they working on?\n",
      "Last line of conversation (for extraction):\n",
      "Human: who is Sam\n",
      "\n",
      "Output:\n",
      "response:  None\n"
     ]
    },
    {
     "data": {
      "text/plain": [
       "{'history': 'Human: Deven & Sam are working on a hackathon project\\nAI:  That sounds like a great project! What kind of project are they working on?',\n",
       " 'entities': {'None': ''}}"
      ]
     },
     "execution_count": 6,
     "metadata": {},
     "output_type": "execute_result"
    }
   ],
   "source": [
    "memory.load_memory_variables({\"input\": 'who is Sam'})"
   ]
  }
 ],
 "metadata": {
  "kernelspec": {
   "display_name": "Python 3",
   "language": "python",
   "name": "python3"
  },
  "language_info": {
   "codemirror_mode": {
    "name": "ipython",
    "version": 3
   },
   "file_extension": ".py",
   "mimetype": "text/x-python",
   "name": "python",
   "nbconvert_exporter": "python",
   "pygments_lexer": "ipython3",
   "version": "3.10.0 (tags/v3.10.0:b494f59, Oct  4 2021, 19:00:18) [MSC v.1929 64 bit (AMD64)]"
  },
  "orig_nbformat": 4,
  "vscode": {
   "interpreter": {
    "hash": "b6c5a9aecb6d2a58b43261f5473d37ab58cbac3ab61728ec982bc436cf9a5fb4"
   }
  }
 },
 "nbformat": 4,
 "nbformat_minor": 2
}
